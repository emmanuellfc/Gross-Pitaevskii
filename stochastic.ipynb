{
 "cells": [
  {
   "cell_type": "code",
   "execution_count": 7,
   "id": "b5c12e34",
   "metadata": {},
   "outputs": [],
   "source": [
    "import numpy as np\n",
    "import matplotlib.pyplot as plt\n",
    "from scipy import integrate\n",
    "import random"
   ]
  },
  {
   "cell_type": "code",
   "execution_count": 21,
   "id": "44527e49",
   "metadata": {},
   "outputs": [],
   "source": [
    "x_min=-1\n",
    "x_max=1\n",
    "w=1\n",
    "steps=100\n",
    "h=1\n",
    "m=1\n",
    "g=1\n",
    "T=1\n",
    "k=1\n",
    "mu=1\n",
    "N=10\n",
    "c1=1\n",
    "c2=1\n",
    "c3=1\n",
    "v=1\n",
    "k=1\n",
    "phi=1\n",
    "u=1\n",
    "\n",
    "beta=1/k*T"
   ]
  },
  {
   "cell_type": "code",
   "execution_count": 22,
   "id": "a34e7525",
   "metadata": {},
   "outputs": [
    {
     "data": {
      "text/plain": [
       "[<matplotlib.lines.Line2D at 0x270fe8188c0>]"
      ]
     },
     "execution_count": 22,
     "metadata": {},
     "output_type": "execute_result"
    },
    {
     "data": {
      "image/png": "[encoded data removed]",
      "text/plain": [
       "<Figure size 640x480 with 1 Axes>"
      ]
     },
     "metadata": {},
     "output_type": "display_data"
    }
   ],
   "source": [
    "grid=np.linspace(x_min,x_max, steps)\n",
    "psi_0=(1/np.pi**.25)*np.exp(-0.5*grid**2)\n",
    "V=.5*m*(w**2)*(grid**2)\n",
    "fig=plt.figure()\n",
    "plt.plot(grid,psi_0)"
   ]
  },
  {
   "cell_type": "code",
   "execution_count": 23,
   "id": "2513c5e4",
   "metadata": {},
   "outputs": [],
   "source": [
    "deltax=(x_max-x_min)/steps"
   ]
  },
  {
   "cell_type": "markdown",
   "id": "3969f6a8",
   "metadata": {},
   "source": [
    "# Computing S_0"
   ]
  },
  {
   "cell_type": "code",
   "execution_count": null,
   "id": "ef3b9fc5",
   "metadata": {},
   "outputs": [
    {
     "name": "stdout",
     "output_type": "stream",
     "text": [
      "Laplacian Term:  4.103689456695525e-05\n",
      "Potential Term:  9.490040255406585\n",
      "Norm^4 Term:  0.3807902958209627\n",
      "Norm^2 Term:  0.842700800831834\n",
      "-10.523095167254333\n"
     ]
    }
   ],
   "source": [
    "# # INITIALIZATION\n",
    "\n",
    "# #Laplacian term\n",
    "# laplacian=0;\n",
    "\n",
    "# for i in range(1,len(psi_0)-1):\n",
    "#     laplacian=+-h**2/(2*m)*(np.conjugate(psi_0[i])*(psi_0[i+1]-2*psi_0[i]+psi_0[i-1])*psi_0[i]/((x_max-x_min)/steps))\n",
    "# print(\"Laplacian Term: \", laplacian)\n",
    "\n",
    "# #Potential term\n",
    "# potential_term=np.dot(V,psi_0)\n",
    "# print(\"Potential Term: \", potential_term)\n",
    "\n",
    "# #Norm^4\n",
    "# norm4=psi_0**4 #I feel like this needs to explicitly be something times complex conj...\n",
    "# #print(norm4)\n",
    "# norm4_term=integrate.simpson(norm4, x=grid)\n",
    "# print(\"Norm^4 Term: \", norm4_term)\n",
    "\n",
    "# #Norm^2 (part of number operation)\n",
    "# norm2=psi_0**2 #I feel like this needs to explicitly be something times complex conj...\n",
    "# norm2_term=integrate.simpson(norm2, x=grid)\n",
    "# print(\"Norm^2 Term: \", norm2_term)\n",
    "\n",
    "# S_0=-beta*(-laplacian+potential_term+(g/2)*norm4_term)-mu*norm2_term\n",
    "# print(S_0)"
   ]
  },
  {
   "cell_type": "code",
   "execution_count": null,
   "id": "cdbb4ceb",
   "metadata": {},
   "outputs": [],
   "source": [
    "def calc_s0(psi_init, h, m, g, mu, x_max, x_min, steps,x_vec):\n",
    "    \n",
    "    #laplacian\n",
    "    for i in range(1,len(psi_init)-1):\n",
    "        laplacian=+-h**2/(2*m)*(np.conjugate(psi_init[i])*(psi_init[i+1]-2*psi_init[i]+psi_init[i-1])*psi_init[i]/((x_max-x_min)/steps))\n",
    "    print(\"Laplacian Term: \", laplacian)\n",
    "\n",
    "    #Potential term\n",
    "    potential_term=np.dot(V,psi_init)\n",
    "    print(\"Potential Term: \", potential_term)\n",
    "\n",
    "    #Norm^4\n",
    "    norm4=psi_init**4 #I feel like this needs to explicitly be something times complex conj...\n",
    "    #print(norm4)\n",
    "    norm4_term=integrate.simpson(norm4, x=x_vec)\n",
    "    print(\"Norm^4 Term: \", norm4_term)\n",
    "\n",
    "    #Norm^2 (part of number operation)\n",
    "    norm2=psi_init**2 #I feel like this needs to explicitly be something times complex conj...\n",
    "    norm2_term=integrate.simpson(norm2, x=x_vec)\n",
    "    print(\"Norm^2 Term: \", norm2_term)\n",
    "\n",
    "    S_0=-beta*(-laplacian+potential_term+(g/2)*norm4_term)-mu*norm2_term\n",
    "    print(S_0)\n",
    "\n",
    "    return S_0"
   ]
  },
  {
   "cell_type": "code",
   "execution_count": 27,
   "id": "307b0d33",
   "metadata": {},
   "outputs": [
    {
     "name": "stdout",
     "output_type": "stream",
     "text": [
      "Laplacian Term:  4.103689456695525e-05\n",
      "Potential Term:  9.490040255406585\n",
      "Norm^4 Term:  0.3807902958209627\n",
      "Norm^2 Term:  0.842700800831834\n",
      "-10.523095167254333\n"
     ]
    }
   ],
   "source": [
    "s0_init=calc_s0(psi_0, h, m, g, mu, x_max, x_min, steps,grid)"
   ]
  },
  {
   "cell_type": "code",
   "execution_count": 25,
   "id": "eee9d8c7",
   "metadata": {},
   "outputs": [
    {
     "name": "stdout",
     "output_type": "stream",
     "text": [
      "1\n",
      "Generating phase perturbation...\n",
      "[0.45558067+0.j         0.46468824+0.00938828j 0.47359124+0.0191402j\n",
      " 0.48227134+0.02924645j 0.49071058+0.03969649j 0.49889146+0.05047864j\n",
      " 0.50679702+0.06158003j 0.51441092+0.0729867j  0.52171749+0.08468357j\n",
      " 0.52870182+0.09665453j 0.53534982+0.10888247j 0.54164829+0.12134931j\n",
      " 0.54758495+0.13403608j 0.55314856+0.146923j   0.55832888+0.15998947j\n",
      " 0.5631168 +0.17321423j 0.56750432+0.18657538j 0.57148463+0.20005044j\n",
      " 0.5750521 +0.21361648j 0.57820233+0.22725016j 0.58093214+0.24092781j\n",
      " 0.58323962+0.25462555j 0.5851241 +0.26831931j 0.58658616+0.28198499j\n",
      " 0.58762762+0.29559848j 0.58825154+0.30913576j 0.58846216+0.32257299j\n",
      " 0.58826492+0.3358866j  0.58766642+0.34905332j 0.58667435+0.36205032j\n",
      " 0.58529748+0.37485521j 0.58354561+0.38744618j 0.5814295 +0.39980201j\n",
      " 0.57896083+0.41190215j 0.57615213+0.42372679j 0.57301674+0.43525688j\n",
      " 0.56956871+0.44647423j 0.56582276+0.45736148j 0.56179418+0.4679022j\n",
      " 0.55749882+0.47808092j 0.55295291+0.48788311j 0.5481731 +0.49729526j\n",
      " 0.54317631+0.50630485j 0.53797969+0.51490041j 0.53260051+0.5230715j\n",
      " 0.52705614+0.53080872j 0.52136394+0.53810372j 0.51554118+0.54494917j\n",
      " 0.50960501+0.5513388j  0.50357237+0.55726735j 0.49745991+0.56273054j\n",
      " 0.49128397+0.56772511j 0.48506048+0.57224875j 0.47880495+0.57630008j\n",
      " 0.47253234+0.57987866j 0.46625712+0.5829849j  0.45999314+0.58562009j\n",
      " 0.45375363+0.58778632j 0.44755113+0.58948648j 0.4413975 +0.59072422j\n",
      " 0.43530387+0.59150388j 0.42928062+0.59183049j 0.42333735+0.59170973j\n",
      " 0.41748286+0.59114788j 0.41172516+0.59015178j 0.40607146+0.58872883j\n",
      " 0.40052814+0.5868869j  0.39510077+0.58463432j 0.3897941 +0.58197988j\n",
      " 0.38461209+0.57893274j 0.37955788+0.57550242j 0.37463385+0.5716988j\n",
      " 0.36984161+0.56753203j 0.365182  +0.56301257j 0.36065516+0.55815109j\n",
      " 0.3562605 +0.55295853j 0.35199679+0.547446j   0.34786212+0.54162479j\n",
      " 0.34385399+0.53550636j 0.33996929+0.5291023j  0.33620438+0.52242433j\n",
      " 0.33255512+0.51548425j 0.32901685+0.50829398j 0.32558453+0.50086549j\n",
      " 0.32225267+0.49321082j 0.31901545+0.48534206j 0.31586673+0.47727131j\n",
      " 0.31280008+0.46901073j 0.30980885+0.46057247j 0.30688618+0.45196869j\n",
      " 0.30402507+0.44321154j 0.30121839+0.43431317j 0.29845895+0.42528568j\n",
      " 0.29573952+0.41614115j 0.29305287+0.40689163j 0.29039182+0.39754909j\n",
      " 0.28774925+0.38812545j 0.28511818+0.37863258j 0.28249176+0.36908224j\n",
      " 0.27986334+0.35948611j]\n"
     ]
    }
   ],
   "source": [
    "# PERTURBATION\n",
    "rand=random.choice([0,1])\n",
    "print(rand)\n",
    "\n",
    "if rand==0:\n",
    "    print(\"Generating density perturbation...\")\n",
    "    psi=psi_0*(1+c1*v*np.sin(k*grid+phi))\n",
    "    print(psi)\n",
    "if rand==1:\n",
    "    print(\"Generating phase perturbation...\")\n",
    "    psi=psi_0*np.exp((1j*c2*v*np.sin(k*grid+phi)))\n",
    "    print(psi)\n",
    "\n",
    "# Vary particle number\n",
    "psi=(1+c3*u)*psi"
   ]
  },
  {
   "cell_type": "code",
   "execution_count": 28,
   "id": "e77af04c",
   "metadata": {},
   "outputs": [
    {
     "name": "stdout",
     "output_type": "stream",
     "text": [
      "Laplacian Term:  (8.687795313864245e-05+0.0019783413701360934j)\n",
      "Potential Term:  (14.399258706108672+10.19319963968015j)\n",
      "Norm^4 Term:  (-3.9814270791634296-0.3555022235368603j)\n",
      "Norm^2 Term:  (0.18731458692736422+2.9071249855515555j)\n",
      "(-12.595772875501183-12.92059517209314j)\n"
     ]
    }
   ],
   "source": [
    "# Calculate reduced energy of perturbed field\n",
    "s0_final=calc_s0(psi, h, m, g, mu, x_max, x_min, steps,grid)"
   ]
  },
  {
   "cell_type": "code",
   "execution_count": 33,
   "id": "0059759f",
   "metadata": {},
   "outputs": [
    {
     "name": "stdout",
     "output_type": "stream",
     "text": [
      "(0.11803514400250797-0.0436521558887325j)\n",
      "a meets acceptance criteria. Perturbation rejected.\n"
     ]
    }
   ],
   "source": [
    "#Check acceptance ratio\n",
    "a=np.exp(s0_final-s0_init)\n",
    "print(a)\n",
    "\n",
    "if a>=1:\n",
    "    pass\n",
    "    print(\"a does not meet acceptance criteria. Perturbation rejected.\")\n",
    "if a<1:\n",
    "    rand=random.random() #generate random number between 0,1\n",
    "    if rand<=a:\n",
    "        psi_0=psi\n",
    "        print(\"a meets acceptance criteria. Perturbation accepted.\")\n",
    "    else:\n",
    "        pass\n",
    "        print(\"a meets acceptance criteria. Perturbation rejected.\")"
   ]
  },
  {
   "cell_type": "code",
   "execution_count": null,
   "id": "e0e83ac0",
   "metadata": {},
   "outputs": [],
   "source": []
  }
 ],
 "metadata": {
  "kernelspec": {
   "display_name": "base",
   "language": "python",
   "name": "python3"
  },
  "language_info": {
   "codemirror_mode": {
    "name": "ipython",
    "version": 3
   },
   "file_extension": ".py",
   "mimetype": "text/x-python",
   "name": "python",
   "nbconvert_exporter": "python",
   "pygments_lexer": "ipython3",
   "version": "3.12.7"
  }
 },
 "nbformat": 4,
 "nbformat_minor": 5
}
