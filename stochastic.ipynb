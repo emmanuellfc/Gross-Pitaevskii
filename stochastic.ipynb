{
 "cells": [
  {
   "cell_type": "code",
   "execution_count": 1,
   "id": "b5c12e34",
   "metadata": {},
   "outputs": [],
   "source": [
    "import numpy as np\n",
    "import matplotlib.pyplot as plt\n",
    "from scipy import integrate\n",
    "import random"
   ]
  },
  {
   "cell_type": "code",
   "execution_count": 2,
   "id": "44527e49",
   "metadata": {},
   "outputs": [],
   "source": [
    "x_min=-1\n",
    "x_max=1\n",
    "w=1\n",
    "steps=100\n",
    "h=1\n",
    "m=1\n",
    "g=1\n",
    "T=1\n",
    "k=1\n",
    "mu=1\n",
    "N=10\n",
    "c1=1\n",
    "c2=1\n",
    "c3=1\n",
    "v=1\n",
    "k=1\n",
    "phi=1\n",
    "u=1\n",
    "\n",
    "beta=1/k*T\n",
    "entropy_store=[]\n",
    "\n",
    "grid=np.linspace(x_min,x_max, steps)\n",
    "psi_0=(1/np.pi**.25)*np.exp(-0.5*grid**2)\n",
    "V=.5*m*(w**2)*(grid**2)\n",
    "deltax=(x_max-x_min)/steps"
   ]
  },
  {
   "cell_type": "markdown",
   "id": "3969f6a8",
   "metadata": {},
   "source": [
    "# Computing S_0"
   ]
  },
  {
   "cell_type": "code",
   "execution_count": 3,
   "id": "cdbb4ceb",
   "metadata": {},
   "outputs": [],
   "source": [
    "def calc_s0(psi_init, h, m, g, mu, x_max, x_min, steps,x_vec):\n",
    "    \n",
    "    #laplacian\n",
    "    for i in range(1,len(psi_init)-1):\n",
    "        laplacian=+-h**2/(2*m)*(np.conjugate(psi_init[i])*(psi_init[i+1]-2*psi_init[i]+psi_init[i-1])*psi_init[i]/((x_max-x_min)/steps))\n",
    "    #print(\"Laplacian Term: \", laplacian)\n",
    "\n",
    "    #Potential term\n",
    "    potential_term=np.dot(V,psi_init)\n",
    "    #print(\"Potential Term: \", potential_term)\n",
    "\n",
    "    #Norm^4\n",
    "    norm4=psi_init**4 #I feel like this needs to explicitly be something times complex conj...\n",
    "    #print(norm4)\n",
    "    norm4_term=integrate.simpson(norm4, x=x_vec)\n",
    "    #print(\"Norm^4 Term: \", norm4_term)\n",
    "\n",
    "    #Norm^2 (part of number operation)\n",
    "    norm2=psi_init**2 #I feel like this needs to explicitly be something times complex conj...\n",
    "    norm2_term=integrate.simpson(norm2, x=x_vec)\n",
    "    #print(\"Norm^2 Term: \", norm2_term)\n",
    "\n",
    "    S_0=-beta*(-laplacian+potential_term+(g/2)*norm4_term)-mu*norm2_term\n",
    "    #print(S_0)\n",
    "\n",
    "    return S_0"
   ]
  },
  {
   "cell_type": "code",
   "execution_count": 4,
   "id": "307b0d33",
   "metadata": {},
   "outputs": [
    {
     "name": "stdout",
     "output_type": "stream",
     "text": [
      "-10.523095167254333\n"
     ]
    }
   ],
   "source": [
    "s0_init=calc_s0(psi_0, h, m, g, mu, x_max, x_min, steps,grid)\n",
    "print(s0_init)"
   ]
  },
  {
   "cell_type": "code",
   "execution_count": 5,
   "id": "eee9d8c7",
   "metadata": {},
   "outputs": [
    {
     "name": "stdout",
     "output_type": "stream",
     "text": [
      "Generating phase perturbation...\n"
     ]
    }
   ],
   "source": [
    "# PERTURBATION\n",
    "rand=random.choice([0,1])\n",
    "\n",
    "if rand==0:\n",
    "    print(\"Generating density perturbation...\")\n",
    "    psi=psi_0*(1+c1*v*np.sin(k*grid+phi))\n",
    "if rand==1:\n",
    "    print(\"Generating phase perturbation...\")\n",
    "    psi=psi_0*np.exp((1j*c2*v*np.sin(k*grid+phi)))\n",
    "\n",
    "# Vary particle number\n",
    "psi=(1+c3*u)*psi"
   ]
  },
  {
   "cell_type": "code",
   "execution_count": 6,
   "id": "e77af04c",
   "metadata": {},
   "outputs": [],
   "source": [
    "# Calculate reduced energy of perturbed field\n",
    "s0_final=calc_s0(psi, h, m, g, mu, x_max, x_min, steps,grid)"
   ]
  },
  {
   "cell_type": "code",
   "execution_count": null,
   "id": "0059759f",
   "metadata": {},
   "outputs": [],
   "source": [
    "#Check acceptance ratio\n",
    "# a=np.exp(s0_final-s0_init)\n",
    "# print(a)\n",
    "\n",
    "# if a>=1:\n",
    "#     pass\n",
    "#     print(\"a does not meet acceptance criteria. Perturbation rejected.\")\n",
    "#     entropy_store.append(s0_init)\n",
    "# if a<1:\n",
    "#     rand=random.random() #generate random number between 0,1\n",
    "#     if rand<=a:\n",
    "#         psi_0=psi\n",
    "#         print(\"a meets acceptance criteria. Perturbation accepted.\")\n",
    "#         entropy_store.append(s0_final)\n",
    "#     else:\n",
    "#         pass\n",
    "#         print(\"a meets acceptance criteria. Perturbation rejected.\")\n",
    "#         entropy_store.append(s0_init)"
   ]
  },
  {
   "cell_type": "code",
   "execution_count": 8,
   "id": "e0e83ac0",
   "metadata": {},
   "outputs": [],
   "source": [
    "def check_func(s0_final, s0_init):\n",
    "    a=np.exp(s0_final-s0_init)\n",
    "\n",
    "    if a>=1:\n",
    "        pass\n",
    "        print(\"a does not meet acceptance criteria. Perturbation rejected.\")\n",
    "        accepted_s=s0_init\n",
    "    if a<1:\n",
    "        rand=random.random() #generate random number between 0,1\n",
    "        if rand<=a:\n",
    "            psi_0=psi\n",
    "            print(\"a meets acceptance criteria. Perturbation accepted.\")\n",
    "            accepted_s=s0_final\n",
    "        else:\n",
    "            pass\n",
    "            print(\"a meets acceptance criteria. Perturbation rejected.\")\n",
    "            accepted_s=s0_init\n",
    "    return accepted_s"
   ]
  },
  {
   "cell_type": "code",
   "execution_count": 12,
   "id": "afb6c40b",
   "metadata": {},
   "outputs": [
    {
     "name": "stdout",
     "output_type": "stream",
     "text": [
      "a meets acceptance criteria. Perturbation accepted.\n"
     ]
    }
   ],
   "source": [
    "accepted_s=check_func(s0_final, s0_init)\n",
    "entropy_store.append(accepted_s)"
   ]
  },
  {
   "cell_type": "code",
   "execution_count": null,
   "id": "e2bd0ae2",
   "metadata": {},
   "outputs": [],
   "source": []
  }
 ],
 "metadata": {
  "kernelspec": {
   "display_name": "base",
   "language": "python",
   "name": "python3"
  },
  "language_info": {
   "codemirror_mode": {
    "name": "ipython",
    "version": 3
   },
   "file_extension": ".py",
   "mimetype": "text/x-python",
   "name": "python",
   "nbconvert_exporter": "python",
   "pygments_lexer": "ipython3",
   "version": "3.12.7"
  }
 },
 "nbformat": 4,
 "nbformat_minor": 5
}
