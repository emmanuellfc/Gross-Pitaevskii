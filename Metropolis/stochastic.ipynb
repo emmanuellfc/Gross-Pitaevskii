{
 "cells": [
  {
   "cell_type": "code",
   "execution_count": null,
   "id": "b5c12e34",
   "metadata": {},
   "outputs": [],
   "source": [
    "import numpy as np\n",
    "import matplotlib.pyplot as plt\n",
    "from scipy import integrate\n",
    "import random\n",
    "from helper_functions import *"
   ]
  },
  {
   "cell_type": "code",
   "execution_count": null,
   "id": "44527e49",
   "metadata": {},
   "outputs": [],
   "source": [
    "#VARIABLE PARAMETERS (4/29)"
   ]
  },
  {
   "cell_type": "markdown",
   "id": "3969f6a8",
   "metadata": {},
   "source": [
    "# Define Functions"
   ]
  },
  {
   "cell_type": "code",
   "execution_count": null,
   "id": "cdbb4ceb",
   "metadata": {},
   "outputs": [],
   "source": [
    "def calc_s0(psi_init, h, m, g, mu, k, x_max, x_min, steps,x_vec,temp,potential):\n",
    "    \n",
    "    #normalize psi_init\n",
    "    dx=(x_max-x_min)/steps\n",
    "    psi_init=psi_init/np.sqrt(np.sum(np.abs(psi_init)**2)*dx)\n",
    "\n",
    "    beta=1/k*temp\n",
    "\n",
    "    #laplacian\n",
    "    laps=[]\n",
    "    for i in range(1,len(psi_init)-1):\n",
    "        laplacian=-h**2/(2*m)*(psi_init[i+1]-2*psi_init[i]+psi_init[i-1])*psi_init[i]/((x_max-x_min)/steps)**2\n",
    "        laps.append(laplacian.copy())\n",
    "    laps_term=laps*np.conjugate(psi_init[1:-1])\n",
    "    laps_int=integrate.simpson(laps_term, x=x_vec[1:-1])\n",
    "    print(\"Laplacian Term: \", laps_int)\n",
    "\n",
    "    #Potential term\n",
    "    potential_term=potential*np.conjugate(psi_init)*psi_init\n",
    "    potential_integrate=integrate.simpson(potential_term, x=x_vec)\n",
    "    print(\"Potential Term: \", potential_integrate)\n",
    "\n",
    "    #Norm^4\n",
    "    norm4=(np.conjugate(psi_init)*psi_init)**2\n",
    "    #print(norm4)\n",
    "    norm4_term=integrate.simpson(norm4, x=x_vec)\n",
    "    print(\"Norm^4 Term: \", norm4_term)\n",
    "\n",
    "    #Norm^2 (part of number operation)\n",
    "    norm2=np.conjugate(psi_init)*psi_init #I feel like this needs to explicitly be something times complex conj...\n",
    "    norm2_term=integrate.simpson(norm2, x=x_vec)\n",
    "    print(\"Norm^2 Term: \", norm2_term)\n",
    "    print(type(norm2_term))\n",
    "\n",
    "    S_0=-beta*((laps_int+potential_integrate+(g/2)*norm4_term)-mu*norm2_term)\n",
    "\n",
    "    return S_0"
   ]
  },
  {
   "cell_type": "code",
   "execution_count": null,
   "id": "e0e83ac0",
   "metadata": {},
   "outputs": [],
   "source": [
    "def check_func(s0_final, s0_init, psi_new,psi_old,x_max, x_min, steps):\n",
    "\n",
    "    dx=(x_max-x_min)/steps\n",
    "    a=np.exp(s0_final-s0_init)\n",
    "    print(\"value of a is: \", a)\n",
    "\n",
    "    if a>=1:\n",
    "        pass\n",
    "        print(\"Candidate state is more probable than seeding state. Candidate state accepted.\")\n",
    "        accepted_s=s0_final\n",
    "        psi_out=psi_new\n",
    "    if a<1:\n",
    "        rand=random.random() #generate random number between 0,1\n",
    "        print(\"rand value is: \",rand)\n",
    "        if rand<=a:\n",
    "        #if rand >=.5:\n",
    "            psi_out=psi_new\n",
    "            print(\"From random number generation, candidate state is accepted.\")\n",
    "            accepted_s=s0_final\n",
    "        else:\n",
    "            pass\n",
    "            print(\"From random number generation, candidate state is rejected.\")\n",
    "            accepted_s=s0_init\n",
    "            psi_out=psi_old\n",
    "\n",
    "    #normalize psi_out\n",
    "    # psi_out_norm=psi_out/np.sqrt(np.sum(np.abs(psi_out)**2)*dx)\n",
    "    \n",
    "    return accepted_s, psi_out"
   ]
  },
  {
   "cell_type": "code",
   "execution_count": null,
   "id": "606e9dd5",
   "metadata": {},
   "outputs": [],
   "source": [
    "def normalize(wave_function, x_start, x_end, num_steps):\n",
    "    \"\"\"\n",
    "    Normalize the wave function.\n",
    "        Parameters: \n",
    "            - Wave Function: array\n",
    "            - x_start\n",
    "            - x_end\n",
    "            - dx\n",
    "            - num steps\n",
    "    \"\"\"\n",
    "    dx = (x_end-x_start)/num_steps\n",
    "    psi_normalized = wave_function/np.sqrt(np.sum(np.abs(wave_function)**2)*dx)\n",
    "    return psi_normalized"
   ]
  },
  {
   "cell_type": "code",
   "execution_count": null,
   "id": "da5f2701",
   "metadata": {},
   "outputs": [],
   "source": [
    "def loop_stochastic(h, m, g, k, mu, c1, c2, c3, v, phi, u, x_max, x_min, nsteps, xgrid, initial_wave_func, potential_func, iterations, temp):\n",
    "\n",
    "    #Define initial and boundary conditions\n",
    "    iter=0\n",
    "    entropy_store=[]\n",
    "    psi_store=[]\n",
    "    psi_sq_store=[]\n",
    "    psi_store.append(initial_wave_func.copy())\n",
    "\n",
    "    while iter<iterations:\n",
    "\n",
    "        print(\"Iteration: \", iter)\n",
    "\n",
    "        #calculate inital entropy\n",
    "        s0_init=calc_s0(initial_wave_func, h, m, g, mu, k, x_max, x_min, nsteps,xgrid, temp, potential_func)\n",
    "        print(\"Initial reduced entropy: \",s0_init)\n",
    "\n",
    "        # PERTURBATION\n",
    "        rand=random.choice([0,1])\n",
    "\n",
    "        if rand==0:\n",
    "            #print(\"Generating density perturbation...\")\n",
    "            psi=initial_wave_func*(1+c1*v*np.sin(k*xgrid+phi))\n",
    "        if rand==1:\n",
    "            psi=initial_wave_func\n",
    "        #     #print(\"Generating phase perturbation...\")\n",
    "        #     psi=initial_wave_func*np.exp((1j*c2*v*np.sin(k*xgrid+phi)))\n",
    "\n",
    "        # Vary particle number\n",
    "        psi=(1+c3*u)*psi\n",
    "        #print(\"new psi is:\",psi)\n",
    "\n",
    "        # Calculate reduced energy of perturbed field\n",
    "        s0_final=calc_s0(psi, h, m, g, mu, k, x_max, x_min, nsteps,xgrid, temp, potential_func)\n",
    "        print(\"Final reduced entropy: \", s0_final)\n",
    "\n",
    "        # Accept or reject perturbation\n",
    "        accepted_s, initial_wave_func=check_func(s0_final, s0_init, psi, initial_wave_func, x_max, x_min, nsteps)\n",
    "        entropy_store.append(accepted_s)\n",
    "        psi_store.append(initial_wave_func)\n",
    "\n",
    "        initial_wave_func = normalize(initial_wave_func, x_min, x_max, nsteps)\n",
    "        \n",
    "        psi_sq=np.conjugate(initial_wave_func)*initial_wave_func\n",
    "        \n",
    "        psi_sq = normalize(psi_sq, x_min, x_max, nsteps)\n",
    "        psi_sq_store.append(psi_sq.copy())\n",
    "        \n",
    "        iter+=1\n",
    "    return psi_store, psi_sq_store, entropy_store"
   ]
  },
  {
   "cell_type": "markdown",
   "id": "71a4b7da",
   "metadata": {},
   "source": [
    "# Run Code"
   ]
  },
  {
   "cell_type": "code",
   "execution_count": null,
   "id": "67ccbf6f",
   "metadata": {},
   "outputs": [],
   "source": [
    "#Define Constants\n",
    "omega=1\n",
    "hbar=1\n",
    "mass=1\n",
    "g_param=-1\n",
    "k_boltz=1\n",
    "mu_chem_potential=1\n",
    "#N_iterations=10\n",
    "c1_val=1\n",
    "c2_val=1\n",
    "c3_val=.001\n",
    "v_val=1\n",
    "phase=1\n",
    "u=1\n",
    "\n",
    "#Construct grid\n",
    "x_start=-5\n",
    "x_end=5\n",
    "num_steps=1000\n",
    "grid=np.linspace(x_start,x_end, num_steps)\n",
    "\n",
    "#Construct potential and initial wave function\n",
    "psi_0=(1/np.pi**.25)*np.exp(-.5*grid**2)\n",
    "V=grid**2/2\n",
    "\n",
    "#Define run parameters\n",
    "iterations=1000\n",
    "temperature=10"
   ]
  },
  {
   "cell_type": "code",
   "execution_count": null,
   "id": "77496b6a",
   "metadata": {},
   "outputs": [],
   "source": [
    "psi_array, psi_sq_array, entropy_array=loop_stochastic(hbar, mass, g_param, k_boltz, mu_chem_potential, c1_val, c2_val, c3_val, v_val, phase, u, x_end, x_start, num_steps, grid, psi_0, V, iterations, temperature)\n",
    "psi_array2, psi_sq_array2, entropy_array2=loop_stochastic(hbar, mass, g_param, k_boltz, mu_chem_potential, c1_val, c2_val, c3_val, v_val, phase, u, x_end, x_start, num_steps, grid, psi_0, V, iterations, 20)"
   ]
  },
  {
   "cell_type": "markdown",
   "id": "241ba799",
   "metadata": {},
   "source": [
    "# Plotting"
   ]
  },
  {
   "cell_type": "code",
   "execution_count": null,
   "id": "dc252c06",
   "metadata": {},
   "outputs": [],
   "source": [
    "#Plot Reduced Entropy\n",
    "fig=plt.figure()\n",
    "plt.plot(np.linspace(0,iterations+1,iterations), np.real(entropy_array), label=\"low temp\")\n",
    "plt.plot(np.linspace(0,iterations+1,iterations), np.real(entropy_array2), label=\"high temp\")\n",
    "plt.xlabel(\"Number of iterations\")\n",
    "plt.ylabel(\"Reduced entropy\")\n",
    "plt.legend()\n",
    "#plt.xlim(0,20)\n",
    "plt.show()"
   ]
  },
  {
   "cell_type": "code",
   "execution_count": null,
   "id": "9e6f97a9",
   "metadata": {},
   "outputs": [],
   "source": [
    "#Plot Reduced Entropy^2\n",
    "fig=plt.figure()\n",
    "plt.plot(np.linspace(0,iterations+1,iterations), np.abs(entropy_array)**2, label=\"low temp\")\n",
    "plt.plot(np.linspace(0,iterations+1,iterations), np.abs(entropy_array2)**2, label=\"high temp\")\n",
    "plt.xlabel(\"Number of iterations\")\n",
    "plt.ylabel(\"Reduced entropy\")\n",
    "plt.legend()\n",
    "#plt.xlim(0,20)\n",
    "plt.show()"
   ]
  },
  {
   "cell_type": "code",
   "execution_count": null,
   "id": "9e94e8ab",
   "metadata": {},
   "outputs": [],
   "source": [
    "# Plot Psi\n",
    "# plt.figure()\n",
    "# for i in range(0,len(psi_array)):\n",
    "#     if i % iterations/100 == 0:\n",
    "#         plt.plot(grid, np.real(psi_array[i]), label=i)\n",
    "# plt.xlabel(\"Position\")\n",
    "# plt.ylabel(\"Psi\")\n",
    "# plt.legend()\n",
    "# plt.show()\n"
   ]
  },
  {
   "cell_type": "code",
   "execution_count": null,
   "id": "f13fe4f7",
   "metadata": {},
   "outputs": [],
   "source": [
    "# Plot psi^2 (number density)\n",
    "# iterations=1000\n",
    "plt.figure()\n",
    "for i in range(iterations):\n",
    "    if i % 100 == 0:\n",
    "        plt.plot(grid,psi_sq_array[i], label=i)\n",
    "plt.legend()\n",
    "plt.show()"
   ]
  },
  {
   "cell_type": "code",
   "execution_count": null,
   "id": "3c68bbe0",
   "metadata": {},
   "outputs": [],
   "source": [
    "fname = \"Test\"\n",
    "label= r\"$|\\psi|^2$\"\n",
    "steps = iterations\n",
    "time_series = generate_time_series_psi_squared(grid, psi_sq_array, steps)\n",
    "animate_psi(time_series, steps, fname, label, \"magenta\")"
   ]
  },
  {
   "cell_type": "code",
   "execution_count": null,
   "id": "1d644796",
   "metadata": {},
   "outputs": [],
   "source": [
    "less = 0\n",
    "excess = 0\n",
    "for i in range(iterations):\n",
    "    if i % 100 == 0:\n",
    "        print(\"Iteratrion: \", i) \n",
    "        print(integrate.simpson(psi_sq_array[i],grid))"
   ]
  },
  {
   "cell_type": "code",
   "execution_count": null,
   "id": "cc2bf703",
   "metadata": {},
   "outputs": [],
   "source": []
  },
  {
   "cell_type": "code",
   "execution_count": null,
   "id": "3eeb86b3",
   "metadata": {},
   "outputs": [],
   "source": []
  }
 ],
 "metadata": {
  "kernelspec": {
   "display_name": "default",
   "language": "python",
   "name": "python3"
  },
  "language_info": {
   "codemirror_mode": {
    "name": "ipython",
    "version": 3
   },
   "file_extension": ".py",
   "mimetype": "text/x-python",
   "name": "python",
   "nbconvert_exporter": "python",
   "pygments_lexer": "ipython3",
   "version": "3.13.3"
  }
 },
 "nbformat": 4,
 "nbformat_minor": 5
}
